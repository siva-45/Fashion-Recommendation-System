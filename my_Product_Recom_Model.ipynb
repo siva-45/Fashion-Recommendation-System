{
  "cells": [
    {
      "cell_type": "code",
      "execution_count": null,
      "id": "95a599c2-126e-4914-9269-6ec7be75fee5",
      "metadata": {
        "colab": {
          "base_uri": "https://localhost:8080/"
        },
        "id": "95a599c2-126e-4914-9269-6ec7be75fee5",
        "outputId": "0e95c20b-f9fd-47fb-eb48-7f54ace3452a"
      },
      "outputs": [
        {
          "name": "stdout",
          "output_type": "stream",
          "text": [
            "Requirement already satisfied: google-auth in /usr/local/lib/python3.10/dist-packages (2.27.0)\n",
            "Requirement already satisfied: cachetools<6.0,>=2.0.0 in /usr/local/lib/python3.10/dist-packages (from google-auth) (5.3.3)\n",
            "Requirement already satisfied: pyasn1-modules>=0.2.1 in /usr/local/lib/python3.10/dist-packages (from google-auth) (0.3.0)\n",
            "Requirement already satisfied: rsa<5,>=3.1.4 in /usr/local/lib/python3.10/dist-packages (from google-auth) (4.9)\n",
            "Requirement already satisfied: pyasn1<0.6.0,>=0.4.6 in /usr/local/lib/python3.10/dist-packages (from pyasn1-modules>=0.2.1->google-auth) (0.5.1)\n"
          ]
        }
      ],
      "source": [
        "#Importing Libraries\n",
        "!pip install google-auth"
      ]
    },
    {
      "cell_type": "code",
      "execution_count": null,
      "id": "9wsBocYrH87w",
      "metadata": {
        "colab": {
          "base_uri": "https://localhost:8080/"
        },
        "id": "9wsBocYrH87w",
        "outputId": "9b23e550-c7f4-468f-a2a3-f1a5c7936a22"
      },
      "outputs": [
        {
          "name": "stdout",
          "output_type": "stream",
          "text": [
            "Mounted at /content/drive\n"
          ]
        }
      ],
      "source": [
        "from google.colab import drive\n",
        "drive.mount('/content/drive')"
      ]
    },
    {
      "cell_type": "code",
      "execution_count": null,
      "id": "1f21a459-a091-4ccb-8410-2f86b8b53626",
      "metadata": {
        "id": "1f21a459-a091-4ccb-8410-2f86b8b53626"
      },
      "outputs": [],
      "source": [
        "import numpy as np\n",
        "import pickle as pkl\n",
        "import tensorflow as tf\n",
        "from tensorflow.keras.applications.resnet50 import ResNet50,preprocess_input\n",
        "from tensorflow.keras.preprocessing import image\n",
        "from tensorflow.keras.layers import GlobalMaxPool2D\n",
        "\n",
        "from sklearn.neighbors import NearestNeighbors\n",
        "import os\n",
        "from numpy.linalg import norm\n",
        "import google.auth\n",
        "from google.colab import auth"
      ]
    },
    {
      "cell_type": "code",
      "execution_count": null,
      "id": "thQ2pzQe2SuY",
      "metadata": {
        "colab": {
          "base_uri": "https://localhost:8080/"
        },
        "id": "thQ2pzQe2SuY",
        "outputId": "ee71c688-3908-4626-e55c-5225cf6f95a0"
      },
      "outputs": [
        {
          "name": "stdout",
          "output_type": "stream",
          "text": [
            "Drive already mounted at /content/drive; to attempt to forcibly remount, call drive.mount(\"/content/drive\", force_remount=True).\n"
          ]
        }
      ],
      "source": [
        "auth.authenticate_user()\n",
        "from google.colab import drive\n",
        "drive.mount('/content/drive')\n"
      ]
    },
    {
      "cell_type": "code",
      "execution_count": null,
      "id": "95EqZeZF4Khj",
      "metadata": {
        "id": "95EqZeZF4Khj"
      },
      "outputs": [],
      "source": [
        "'''# import the zipfile module\n",
        "import zipfile\n",
        "\n",
        "# specify the zip file name and the folder to extract to\n",
        "zip_file_name = \"/content/drive/MyDrive/Data Set/Fashion Data.zip\"\n",
        "extract_folder_name = \"/content/drive/MyDrive/Data Set/Fashion Data\"\n",
        "\n",
        "# open the zip file\n",
        "with zipfile.ZipFile(zip_file_name, 'r') as zip_ref:\n",
        "    # extract all files to the specified folder\n",
        "    zip_ref.extractall(extract_folder_name)'''"
      ]
    },
    {
      "cell_type": "code",
      "execution_count": null,
      "id": "90cca902-6180-4afd-b84f-d10d43ba6b98",
      "metadata": {
        "id": "90cca902-6180-4afd-b84f-d10d43ba6b98"
      },
      "outputs": [],
      "source": [
        "#Extract Filenames from Folder"
      ]
    },
    {
      "cell_type": "code",
      "execution_count": null,
      "id": "3d71d2d4-f947-4ff9-9537-ede9d690ad85",
      "metadata": {
        "id": "3d71d2d4-f947-4ff9-9537-ede9d690ad85"
      },
      "outputs": [],
      "source": [
        "filenames = []\n",
        "for file in os.listdir('/content/drive/MyDrive/Data Set/Fashion Data/images'):\n",
        "    filenames.append(os.path.join('/content/drive/MyDrive/Data Set/Fashion Data/images',file))\n"
      ]
    },
    {
      "cell_type": "code",
      "execution_count": null,
      "id": "bc62c11d-334a-45ba-a011-025a81e83074",
      "metadata": {
        "colab": {
          "base_uri": "https://localhost:8080/"
        },
        "id": "bc62c11d-334a-45ba-a011-025a81e83074",
        "outputId": "5d53d386-c7d9-4052-c3ea-764e86f71f6c"
      },
      "outputs": [
        {
          "data": {
            "text/plain": [
              "44441"
            ]
          },
          "execution_count": 11,
          "metadata": {},
          "output_type": "execute_result"
        }
      ],
      "source": [
        "len(filenames)"
      ]
    },
    {
      "cell_type": "code",
      "execution_count": null,
      "id": "bLDSP4iJlC9W",
      "metadata": {
        "colab": {
          "base_uri": "https://localhost:8080/",
          "height": 35
        },
        "id": "bLDSP4iJlC9W",
        "outputId": "36eb7003-181f-4f45-cff4-c9cee061c4fe"
      },
      "outputs": [
        {
          "data": {
            "application/vnd.google.colaboratory.intrinsic+json": {
              "type": "string"
            },
            "text/plain": [
              "'/content/drive/MyDrive/Data Set/Fashion Data/images/8826.jpg'"
            ]
          },
          "execution_count": 12,
          "metadata": {},
          "output_type": "execute_result"
        }
      ],
      "source": [
        "filenames[0]"
      ]
    },
    {
      "cell_type": "code",
      "execution_count": null,
      "id": "890d6a07-36a6-46c7-824b-7951a7a2fc1d",
      "metadata": {
        "id": "890d6a07-36a6-46c7-824b-7951a7a2fc1d"
      },
      "outputs": [],
      "source": [
        "#Importing ResNet50 Model and Cofiguration"
      ]
    },
    {
      "cell_type": "code",
      "execution_count": null,
      "id": "eee2743f-32b2-4154-8a29-66a320527fe7",
      "metadata": {
        "colab": {
          "base_uri": "https://localhost:8080/"
        },
        "id": "eee2743f-32b2-4154-8a29-66a320527fe7",
        "outputId": "5a35a806-349a-44ec-8c21-73ace318ca89"
      },
      "outputs": [
        {
          "name": "stdout",
          "output_type": "stream",
          "text": [
            "Downloading data from https://storage.googleapis.com/tensorflow/keras-applications/resnet/resnet50_weights_tf_dim_ordering_tf_kernels_notop.h5\n",
            "94765736/94765736 [==============================] - 5s 0us/step\n",
            "Model: \"sequential\"\n",
            "_________________________________________________________________\n",
            " Layer (type)                Output Shape              Param #   \n",
            "=================================================================\n",
            " resnet50 (Functional)       (None, 7, 7, 2048)        23587712  \n",
            "                                                                 \n",
            " global_max_pooling2d (Glob  (None, 2048)              0         \n",
            " alMaxPooling2D)                                                 \n",
            "                                                                 \n",
            "=================================================================\n",
            "Total params: 23587712 (89.98 MB)\n",
            "Trainable params: 0 (0.00 Byte)\n",
            "Non-trainable params: 23587712 (89.98 MB)\n",
            "_________________________________________________________________\n"
          ]
        }
      ],
      "source": [
        "model = ResNet50(weights='imagenet', include_top=False, input_shape=(224,224,3))\n",
        "model.trainable = False\n",
        "\n",
        "model = tf.keras.models.Sequential([model,\n",
        "                                   GlobalMaxPool2D()\n",
        "                                   ])\n",
        "model.summary()"
      ]
    },
    {
      "cell_type": "code",
      "execution_count": null,
      "id": "4dc6c885-1f9f-4a72-9637-312f1fd28be8",
      "metadata": {
        "id": "4dc6c885-1f9f-4a72-9637-312f1fd28be8"
      },
      "outputs": [],
      "source": [
        "#Extracting Fetaures from Image"
      ]
    },
    {
      "cell_type": "code",
      "execution_count": null,
      "id": "d1f0a09d-d939-4157-bee7-78200d119733",
      "metadata": {
        "colab": {
          "base_uri": "https://localhost:8080/"
        },
        "id": "d1f0a09d-d939-4157-bee7-78200d119733",
        "outputId": "27175da8-9ec9-41fb-8e84-f833f32f4d44"
      },
      "outputs": [
        {
          "name": "stdout",
          "output_type": "stream",
          "text": [
            "1/1 [==============================] - 4s 4s/step\n"
          ]
        },
        {
          "data": {
            "text/plain": [
              "array([0.        , 0.00295305, 0.        , ..., 0.00752506, 0.02113526,\n",
              "       0.00401741], dtype=float32)"
            ]
          },
          "execution_count": 14,
          "metadata": {},
          "output_type": "execute_result"
        }
      ],
      "source": [
        "img = image.load_img('/content/drive/MyDrive/Data Set/Fashion Data/images/16871.jpg', target_size=(224,224))\n",
        "img_array = image.img_to_array(img)\n",
        "img_expand_dim = np.expand_dims(img_array, axis=0)\n",
        "img_preprocess = preprocess_input(img_expand_dim)\n",
        "result = model.predict(img_preprocess).flatten()\n",
        "norm_result = result/norm(result)\n",
        "norm_result"
      ]
    },
    {
      "cell_type": "code",
      "execution_count": null,
      "id": "3ICftq7hrZHx",
      "metadata": {
        "id": "3ICftq7hrZHx"
      },
      "outputs": [],
      "source": [
        "cv.imshow(\"Display window\", img)"
      ]
    },
    {
      "cell_type": "code",
      "execution_count": null,
      "id": "xkHt9Rn6lTaf",
      "metadata": {
        "id": "xkHt9Rn6lTaf"
      },
      "outputs": [],
      "source": [
        "image_path = '/content/drive/MyDrive/Data Set/Fashion Data/images'"
      ]
    },
    {
      "cell_type": "code",
      "execution_count": null,
      "id": "a4240bca-f785-47ae-8b61-0d7bfc87f7bd",
      "metadata": {
        "id": "a4240bca-f785-47ae-8b61-0d7bfc87f7bd"
      },
      "outputs": [],
      "source": [
        "def extract_features_from_images(image_path, model):\n",
        "    img = image.load_img(image_path, target_size=(224,224))\n",
        "    img_array = image.img_to_array(img)\n",
        "    img_expand_dim = np.expand_dims(img_array, axis=0)\n",
        "    img_preprocess = preprocess_input(img_expand_dim)\n",
        "    result = model.predict(img_preprocess).flatten()\n",
        "    norm_result = result/norm(result)\n",
        "    return norm_result"
      ]
    },
    {
      "cell_type": "code",
      "execution_count": null,
      "id": "edxG5zntk0hG",
      "metadata": {
        "colab": {
          "base_uri": "https://localhost:8080/",
          "height": 391
        },
        "id": "edxG5zntk0hG",
        "outputId": "f995fa18-00a5-4923-b303-9f7bfacb5567"
      },
      "outputs": [
        {
          "name": "stdout",
          "output_type": "stream",
          "text": [
            "1/1 [==============================] - 0s 22ms/step\n",
            "1/1 [==============================] - 0s 39ms/step\n",
            "1/1 [==============================] - 0s 33ms/step\n"
          ]
        },
        {
          "ename": "KeyboardInterrupt",
          "evalue": "",
          "output_type": "error",
          "traceback": [
            "\u001b[0;31m---------------------------------------------------------------------------\u001b[0m",
            "\u001b[0;31mKeyboardInterrupt\u001b[0m                         Traceback (most recent call last)",
            "\u001b[0;32m<ipython-input-17-6af06b0c14ed>\u001b[0m in \u001b[0;36m<cell line: 2>\u001b[0;34m()\u001b[0m\n\u001b[1;32m      2\u001b[0m \u001b[0;32mfor\u001b[0m \u001b[0mfile\u001b[0m \u001b[0;32min\u001b[0m \u001b[0mfilenames\u001b[0m\u001b[0;34m[\u001b[0m\u001b[0;34m:\u001b[0m\u001b[0;34m]\u001b[0m\u001b[0;34m:\u001b[0m\u001b[0;34m\u001b[0m\u001b[0;34m\u001b[0m\u001b[0m\n\u001b[1;32m      3\u001b[0m     \u001b[0mfile_path\u001b[0m \u001b[0;34m=\u001b[0m \u001b[0mos\u001b[0m\u001b[0;34m.\u001b[0m\u001b[0mpath\u001b[0m\u001b[0;34m.\u001b[0m\u001b[0mjoin\u001b[0m\u001b[0;34m(\u001b[0m\u001b[0;34m\"/content/drive/MyDrive/Data Set/Fashion Data/images\"\u001b[0m\u001b[0;34m,\u001b[0m \u001b[0mfile\u001b[0m\u001b[0;34m)\u001b[0m\u001b[0;34m\u001b[0m\u001b[0;34m\u001b[0m\u001b[0m\n\u001b[0;32m----> 4\u001b[0;31m     \u001b[0mimage_features\u001b[0m\u001b[0;34m.\u001b[0m\u001b[0mappend\u001b[0m\u001b[0;34m(\u001b[0m\u001b[0mextract_features_from_images\u001b[0m\u001b[0;34m(\u001b[0m\u001b[0mfile_path\u001b[0m\u001b[0;34m,\u001b[0m \u001b[0mmodel\u001b[0m\u001b[0;34m)\u001b[0m\u001b[0;34m)\u001b[0m\u001b[0;34m\u001b[0m\u001b[0;34m\u001b[0m\u001b[0m\n\u001b[0m\u001b[1;32m      5\u001b[0m \u001b[0mimage_features\u001b[0m\u001b[0;34m\u001b[0m\u001b[0;34m\u001b[0m\u001b[0m\n",
            "\u001b[0;32m<ipython-input-16-fffbbda5788a>\u001b[0m in \u001b[0;36mextract_features_from_images\u001b[0;34m(image_path, model)\u001b[0m\n\u001b[1;32m      1\u001b[0m \u001b[0;32mdef\u001b[0m \u001b[0mextract_features_from_images\u001b[0m\u001b[0;34m(\u001b[0m\u001b[0mimage_path\u001b[0m\u001b[0;34m,\u001b[0m \u001b[0mmodel\u001b[0m\u001b[0;34m)\u001b[0m\u001b[0;34m:\u001b[0m\u001b[0;34m\u001b[0m\u001b[0;34m\u001b[0m\u001b[0m\n\u001b[0;32m----> 2\u001b[0;31m     \u001b[0mimg\u001b[0m \u001b[0;34m=\u001b[0m \u001b[0mimage\u001b[0m\u001b[0;34m.\u001b[0m\u001b[0mload_img\u001b[0m\u001b[0;34m(\u001b[0m\u001b[0mimage_path\u001b[0m\u001b[0;34m,\u001b[0m \u001b[0mtarget_size\u001b[0m\u001b[0;34m=\u001b[0m\u001b[0;34m(\u001b[0m\u001b[0;36m224\u001b[0m\u001b[0;34m,\u001b[0m\u001b[0;36m224\u001b[0m\u001b[0;34m)\u001b[0m\u001b[0;34m)\u001b[0m\u001b[0;34m\u001b[0m\u001b[0;34m\u001b[0m\u001b[0m\n\u001b[0m\u001b[1;32m      3\u001b[0m     \u001b[0mimg_array\u001b[0m \u001b[0;34m=\u001b[0m \u001b[0mimage\u001b[0m\u001b[0;34m.\u001b[0m\u001b[0mimg_to_array\u001b[0m\u001b[0;34m(\u001b[0m\u001b[0mimg\u001b[0m\u001b[0;34m)\u001b[0m\u001b[0;34m\u001b[0m\u001b[0;34m\u001b[0m\u001b[0m\n\u001b[1;32m      4\u001b[0m     \u001b[0mimg_expand_dim\u001b[0m \u001b[0;34m=\u001b[0m \u001b[0mnp\u001b[0m\u001b[0;34m.\u001b[0m\u001b[0mexpand_dims\u001b[0m\u001b[0;34m(\u001b[0m\u001b[0mimg_array\u001b[0m\u001b[0;34m,\u001b[0m \u001b[0maxis\u001b[0m\u001b[0;34m=\u001b[0m\u001b[0;36m0\u001b[0m\u001b[0;34m)\u001b[0m\u001b[0;34m\u001b[0m\u001b[0;34m\u001b[0m\u001b[0m\n\u001b[1;32m      5\u001b[0m     \u001b[0mimg_preprocess\u001b[0m \u001b[0;34m=\u001b[0m \u001b[0mpreprocess_input\u001b[0m\u001b[0;34m(\u001b[0m\u001b[0mimg_expand_dim\u001b[0m\u001b[0;34m)\u001b[0m\u001b[0;34m\u001b[0m\u001b[0;34m\u001b[0m\u001b[0m\n",
            "\u001b[0;32m/usr/local/lib/python3.10/dist-packages/keras/src/utils/image_utils.py\u001b[0m in \u001b[0;36mload_img\u001b[0;34m(path, grayscale, color_mode, target_size, interpolation, keep_aspect_ratio)\u001b[0m\n\u001b[1;32m    421\u001b[0m             \u001b[0mpath\u001b[0m \u001b[0;34m=\u001b[0m \u001b[0mstr\u001b[0m\u001b[0;34m(\u001b[0m\u001b[0mpath\u001b[0m\u001b[0;34m.\u001b[0m\u001b[0mresolve\u001b[0m\u001b[0;34m(\u001b[0m\u001b[0;34m)\u001b[0m\u001b[0;34m)\u001b[0m\u001b[0;34m\u001b[0m\u001b[0;34m\u001b[0m\u001b[0m\n\u001b[1;32m    422\u001b[0m         \u001b[0;32mwith\u001b[0m \u001b[0mopen\u001b[0m\u001b[0;34m(\u001b[0m\u001b[0mpath\u001b[0m\u001b[0;34m,\u001b[0m \u001b[0;34m\"rb\"\u001b[0m\u001b[0;34m)\u001b[0m \u001b[0;32mas\u001b[0m \u001b[0mf\u001b[0m\u001b[0;34m:\u001b[0m\u001b[0;34m\u001b[0m\u001b[0;34m\u001b[0m\u001b[0m\n\u001b[0;32m--> 423\u001b[0;31m             \u001b[0mimg\u001b[0m \u001b[0;34m=\u001b[0m \u001b[0mpil_image\u001b[0m\u001b[0;34m.\u001b[0m\u001b[0mopen\u001b[0m\u001b[0;34m(\u001b[0m\u001b[0mio\u001b[0m\u001b[0;34m.\u001b[0m\u001b[0mBytesIO\u001b[0m\u001b[0;34m(\u001b[0m\u001b[0mf\u001b[0m\u001b[0;34m.\u001b[0m\u001b[0mread\u001b[0m\u001b[0;34m(\u001b[0m\u001b[0;34m)\u001b[0m\u001b[0;34m)\u001b[0m\u001b[0;34m)\u001b[0m\u001b[0;34m\u001b[0m\u001b[0;34m\u001b[0m\u001b[0m\n\u001b[0m\u001b[1;32m    424\u001b[0m     \u001b[0;32melse\u001b[0m\u001b[0;34m:\u001b[0m\u001b[0;34m\u001b[0m\u001b[0;34m\u001b[0m\u001b[0m\n\u001b[1;32m    425\u001b[0m         raise TypeError(\n",
            "\u001b[0;31mKeyboardInterrupt\u001b[0m: "
          ]
        }
      ],
      "source": [
        "image_features = []\n",
        "for file in filenames[:]:\n",
        "    file_path = os.path.join(\"/content/drive/MyDrive/Data Set/Fashion Data/images\", file)\n",
        "    image_features.append(extract_features_from_images(file_path, model))\n",
        "image_features"
      ]
    },
    {
      "cell_type": "code",
      "execution_count": null,
      "id": "77399749-0c8e-4fac-a376-7ef9367399dc",
      "metadata": {
        "id": "77399749-0c8e-4fac-a376-7ef9367399dc"
      },
      "outputs": [],
      "source": [
        "#extract_features_from_images(filenames[1], model)"
      ]
    },
    {
      "cell_type": "code",
      "execution_count": null,
      "id": "7845eb38-a86a-49f3-99d4-61245bcfdff1",
      "metadata": {
        "colab": {
          "base_uri": "https://localhost:8080/",
          "height": 53
        },
        "id": "7845eb38-a86a-49f3-99d4-61245bcfdff1",
        "outputId": "8347e152-d6a8-4f45-fe8c-53211ffe146e"
      },
      "outputs": [
        {
          "data": {
            "application/vnd.google.colaboratory.intrinsic+json": {
              "type": "string"
            },
            "text/plain": [
              "'image_features = []\\nfor file in filenames[:]:\\n    image_features.append(extract_features_from_images(file, model))\\nimage_features'"
            ]
          },
          "execution_count": 30,
          "metadata": {},
          "output_type": "execute_result"
        }
      ],
      "source": [
        "'''image_features = []\n",
        "for file in filenames[:]:\n",
        "    image_features.append(extract_features_from_images(file, model))\n",
        "image_features'''"
      ]
    },
    {
      "cell_type": "code",
      "execution_count": null,
      "id": "243ca5d7-1086-48df-a9ab-8e271e4d2eef",
      "metadata": {
        "id": "243ca5d7-1086-48df-a9ab-8e271e4d2eef"
      },
      "outputs": [],
      "source": [
        "Image_features = pkl.dump(image_features, open('Images_features.pkl','wb'))"
      ]
    },
    {
      "cell_type": "code",
      "execution_count": null,
      "id": "ab25bdd5-423d-4e2a-8b30-3ed52e5a6cb5",
      "metadata": {
        "id": "ab25bdd5-423d-4e2a-8b30-3ed52e5a6cb5"
      },
      "outputs": [],
      "source": [
        "filenames = pkl.dump(filenames, open('filenames.pkl','wb'))"
      ]
    },
    {
      "cell_type": "code",
      "execution_count": null,
      "id": "09506759-ea0b-44b1-914b-e9b395972cda",
      "metadata": {
        "id": "09506759-ea0b-44b1-914b-e9b395972cda"
      },
      "outputs": [],
      "source": [
        "#Loading Pickle Files"
      ]
    },
    {
      "cell_type": "code",
      "execution_count": null,
      "id": "e52f0652-9baa-48f4-a46a-0d19d78ede65",
      "metadata": {
        "id": "e52f0652-9baa-48f4-a46a-0d19d78ede65"
      },
      "outputs": [],
      "source": [
        "Image_features = pkl.load(open('Images_features.pkl','rb'))"
      ]
    },
    {
      "cell_type": "code",
      "execution_count": null,
      "id": "62671665-ec2d-4870-ac96-1120e1d71897",
      "metadata": {
        "id": "62671665-ec2d-4870-ac96-1120e1d71897"
      },
      "outputs": [],
      "source": [
        "filenames = pkl.load(open('filenames.pkl','rb'))"
      ]
    },
    {
      "cell_type": "code",
      "execution_count": null,
      "id": "86e4713a-eab1-4089-94c6-b70ee7b7551a",
      "metadata": {
        "colab": {
          "base_uri": "https://localhost:8080/"
        },
        "id": "86e4713a-eab1-4089-94c6-b70ee7b7551a",
        "outputId": "c4df20f6-7de6-4392-87d8-18186461f35d"
      },
      "outputs": [
        {
          "data": {
            "text/plain": [
              "(44441, 2048)"
            ]
          },
          "execution_count": 36,
          "metadata": {},
          "output_type": "execute_result"
        }
      ],
      "source": [
        "np.array(Image_features).shape"
      ]
    },
    {
      "cell_type": "code",
      "execution_count": null,
      "id": "61fed279-cd41-43be-8b62-6839b6925e9b",
      "metadata": {
        "id": "61fed279-cd41-43be-8b62-6839b6925e9b"
      },
      "outputs": [],
      "source": [
        "#Finidng Simialar Images"
      ]
    },
    {
      "cell_type": "code",
      "execution_count": null,
      "id": "f3f60058-06ef-47ee-8fa2-3e87d9c90d15",
      "metadata": {
        "id": "f3f60058-06ef-47ee-8fa2-3e87d9c90d15"
      },
      "outputs": [],
      "source": [
        "neighbors = NearestNeighbors(n_neighbors=6, algorithm='brute', metric='euclidean')"
      ]
    },
    {
      "cell_type": "code",
      "execution_count": null,
      "id": "dbdc960b-7a99-4fcc-bded-45526750c188",
      "metadata": {
        "colab": {
          "base_uri": "https://localhost:8080/",
          "height": 75
        },
        "id": "dbdc960b-7a99-4fcc-bded-45526750c188",
        "outputId": "b96c64e3-c1e6-4ab2-ef40-579ef48cb6e2"
      },
      "outputs": [
        {
          "data": {
            "text/html": [
              "<style>#sk-container-id-1 {color: black;background-color: white;}#sk-container-id-1 pre{padding: 0;}#sk-container-id-1 div.sk-toggleable {background-color: white;}#sk-container-id-1 label.sk-toggleable__label {cursor: pointer;display: block;width: 100%;margin-bottom: 0;padding: 0.3em;box-sizing: border-box;text-align: center;}#sk-container-id-1 label.sk-toggleable__label-arrow:before {content: \"▸\";float: left;margin-right: 0.25em;color: #696969;}#sk-container-id-1 label.sk-toggleable__label-arrow:hover:before {color: black;}#sk-container-id-1 div.sk-estimator:hover label.sk-toggleable__label-arrow:before {color: black;}#sk-container-id-1 div.sk-toggleable__content {max-height: 0;max-width: 0;overflow: hidden;text-align: left;background-color: #f0f8ff;}#sk-container-id-1 div.sk-toggleable__content pre {margin: 0.2em;color: black;border-radius: 0.25em;background-color: #f0f8ff;}#sk-container-id-1 input.sk-toggleable__control:checked~div.sk-toggleable__content {max-height: 200px;max-width: 100%;overflow: auto;}#sk-container-id-1 input.sk-toggleable__control:checked~label.sk-toggleable__label-arrow:before {content: \"▾\";}#sk-container-id-1 div.sk-estimator input.sk-toggleable__control:checked~label.sk-toggleable__label {background-color: #d4ebff;}#sk-container-id-1 div.sk-label input.sk-toggleable__control:checked~label.sk-toggleable__label {background-color: #d4ebff;}#sk-container-id-1 input.sk-hidden--visually {border: 0;clip: rect(1px 1px 1px 1px);clip: rect(1px, 1px, 1px, 1px);height: 1px;margin: -1px;overflow: hidden;padding: 0;position: absolute;width: 1px;}#sk-container-id-1 div.sk-estimator {font-family: monospace;background-color: #f0f8ff;border: 1px dotted black;border-radius: 0.25em;box-sizing: border-box;margin-bottom: 0.5em;}#sk-container-id-1 div.sk-estimator:hover {background-color: #d4ebff;}#sk-container-id-1 div.sk-parallel-item::after {content: \"\";width: 100%;border-bottom: 1px solid gray;flex-grow: 1;}#sk-container-id-1 div.sk-label:hover label.sk-toggleable__label {background-color: #d4ebff;}#sk-container-id-1 div.sk-serial::before {content: \"\";position: absolute;border-left: 1px solid gray;box-sizing: border-box;top: 0;bottom: 0;left: 50%;z-index: 0;}#sk-container-id-1 div.sk-serial {display: flex;flex-direction: column;align-items: center;background-color: white;padding-right: 0.2em;padding-left: 0.2em;position: relative;}#sk-container-id-1 div.sk-item {position: relative;z-index: 1;}#sk-container-id-1 div.sk-parallel {display: flex;align-items: stretch;justify-content: center;background-color: white;position: relative;}#sk-container-id-1 div.sk-item::before, #sk-container-id-1 div.sk-parallel-item::before {content: \"\";position: absolute;border-left: 1px solid gray;box-sizing: border-box;top: 0;bottom: 0;left: 50%;z-index: -1;}#sk-container-id-1 div.sk-parallel-item {display: flex;flex-direction: column;z-index: 1;position: relative;background-color: white;}#sk-container-id-1 div.sk-parallel-item:first-child::after {align-self: flex-end;width: 50%;}#sk-container-id-1 div.sk-parallel-item:last-child::after {align-self: flex-start;width: 50%;}#sk-container-id-1 div.sk-parallel-item:only-child::after {width: 0;}#sk-container-id-1 div.sk-dashed-wrapped {border: 1px dashed gray;margin: 0 0.4em 0.5em 0.4em;box-sizing: border-box;padding-bottom: 0.4em;background-color: white;}#sk-container-id-1 div.sk-label label {font-family: monospace;font-weight: bold;display: inline-block;line-height: 1.2em;}#sk-container-id-1 div.sk-label-container {text-align: center;}#sk-container-id-1 div.sk-container {/* jupyter's `normalize.less` sets `[hidden] { display: none; }` but bootstrap.min.css set `[hidden] { display: none !important; }` so we also need the `!important` here to be able to override the default hidden behavior on the sphinx rendered scikit-learn.org. See: https://github.com/scikit-learn/scikit-learn/issues/21755 */display: inline-block !important;position: relative;}#sk-container-id-1 div.sk-text-repr-fallback {display: none;}</style><div id=\"sk-container-id-1\" class=\"sk-top-container\"><div class=\"sk-text-repr-fallback\"><pre>NearestNeighbors(algorithm=&#x27;brute&#x27;, metric=&#x27;euclidean&#x27;, n_neighbors=6)</pre><b>In a Jupyter environment, please rerun this cell to show the HTML representation or trust the notebook. <br />On GitHub, the HTML representation is unable to render, please try loading this page with nbviewer.org.</b></div><div class=\"sk-container\" hidden><div class=\"sk-item\"><div class=\"sk-estimator sk-toggleable\"><input class=\"sk-toggleable__control sk-hidden--visually\" id=\"sk-estimator-id-1\" type=\"checkbox\" checked><label for=\"sk-estimator-id-1\" class=\"sk-toggleable__label sk-toggleable__label-arrow\">NearestNeighbors</label><div class=\"sk-toggleable__content\"><pre>NearestNeighbors(algorithm=&#x27;brute&#x27;, metric=&#x27;euclidean&#x27;, n_neighbors=6)</pre></div></div></div></div></div>"
            ],
            "text/plain": [
              "NearestNeighbors(algorithm='brute', metric='euclidean', n_neighbors=6)"
            ]
          },
          "execution_count": 38,
          "metadata": {},
          "output_type": "execute_result"
        }
      ],
      "source": [
        "neighbors.fit(Image_features)"
      ]
    },
    {
      "cell_type": "code",
      "execution_count": null,
      "id": "fe025124-cd91-4e07-8603-4afcadf6e41e",
      "metadata": {
        "colab": {
          "base_uri": "https://localhost:8080/"
        },
        "id": "fe025124-cd91-4e07-8603-4afcadf6e41e",
        "outputId": "5d74d984-5808-4eae-b5ce-09df763802b2"
      },
      "outputs": [
        {
          "name": "stdout",
          "output_type": "stream",
          "text": [
            "1/1 [==============================] - 0s 65ms/step\n"
          ]
        }
      ],
      "source": [
        "input_image = extract_features_from_images('/content/drive/MyDrive/Data Set/Fashion Data/images/14880.jpg',model)"
      ]
    },
    {
      "cell_type": "code",
      "execution_count": null,
      "id": "_Va2mPfb-Qq3",
      "metadata": {
        "colab": {
          "base_uri": "https://localhost:8080/"
        },
        "id": "_Va2mPfb-Qq3",
        "outputId": "1eb8e7b9-e502-43dd-85d2-47f05efffe5f"
      },
      "outputs": [
        {
          "name": "stdout",
          "output_type": "stream",
          "text": [
            "(2048,)\n"
          ]
        }
      ],
      "source": [
        "print(input_image.shape)"
      ]
    },
    {
      "cell_type": "code",
      "execution_count": null,
      "id": "cf56e13f-ec4a-400d-9c48-a720c39f6aeb",
      "metadata": {
        "id": "cf56e13f-ec4a-400d-9c48-a720c39f6aeb"
      },
      "outputs": [],
      "source": [
        "distance,indices = neighbors.kneighbors([input_image])"
      ]
    },
    {
      "cell_type": "code",
      "execution_count": null,
      "id": "c7435305-19df-430b-a4a6-90bcc9f353a8",
      "metadata": {
        "colab": {
          "base_uri": "https://localhost:8080/"
        },
        "id": "c7435305-19df-430b-a4a6-90bcc9f353a8",
        "outputId": "d74eb5c7-c3f5-47b1-9395-4fd8ec976b70"
      },
      "outputs": [
        {
          "data": {
            "text/plain": [
              "array([ 4082,  4087, 30519, 30517, 38637,  4088])"
            ]
          },
          "execution_count": 44,
          "metadata": {},
          "output_type": "execute_result"
        }
      ],
      "source": [
        "indices[0]"
      ]
    },
    {
      "cell_type": "code",
      "execution_count": null,
      "id": "4c1b210e-9719-4d64-8657-29990d67219a",
      "metadata": {
        "id": "4c1b210e-9719-4d64-8657-29990d67219a"
      },
      "outputs": [],
      "source": [
        "from IPython.display import Image"
      ]
    },
    {
      "cell_type": "code",
      "execution_count": null,
      "id": "6e248079-73d1-4830-a43a-f27a201fce33",
      "metadata": {
        "colab": {
          "base_uri": "https://localhost:8080/",
          "height": 97
        },
        "id": "6e248079-73d1-4830-a43a-f27a201fce33",
        "outputId": "e3a7e58c-2b10-4d5c-a9bb-c0d71448c9cb"
      },
      "outputs": [
        {
          "data": {
            "image/jpeg": "[encoded data removed]",
            "text/plain": [
              "<IPython.core.display.Image object>"
            ]
          },
          "execution_count": 48,
          "metadata": {},
          "output_type": "execute_result"
        }
      ],
      "source": [
        "Image('/content/drive/MyDrive/Data Set/Fashion Data/images/14880.jpg')"
      ]
    },
    {
      "cell_type": "code",
      "execution_count": null,
      "id": "ee44a3b0-74cc-4548-bfd7-a80d3e0cb331",
      "metadata": {
        "colab": {
          "base_uri": "https://localhost:8080/",
          "height": 97
        },
        "id": "ee44a3b0-74cc-4548-bfd7-a80d3e0cb331",
        "outputId": "3a894269-e7fe-465d-d1aa-8d2ad3e6067d"
      },
      "outputs": [
        {
          "data": {
            "image/jpeg": "[encoded data removed]",
            "text/plain": [
              "<IPython.core.display.Image object>"
            ]
          },
          "execution_count": 53,
          "metadata": {},
          "output_type": "execute_result"
        }
      ],
      "source": [
        "Image(filenames[indices[0][1]])"
      ]
    },
    {
      "cell_type": "code",
      "execution_count": null,
      "id": "22c8a456-7426-4120-b5ca-0bd4af874896",
      "metadata": {
        "colab": {
          "base_uri": "https://localhost:8080/",
          "height": 97
        },
        "id": "22c8a456-7426-4120-b5ca-0bd4af874896",
        "outputId": "e3a15be6-4644-4947-afe9-fca761614a47"
      },
      "outputs": [
        {
          "data": {
            "image/jpeg": "[encoded data removed]",
            "text/plain": [
              "<IPython.core.display.Image object>"
            ]
          },
          "execution_count": 54,
          "metadata": {},
          "output_type": "execute_result"
        }
      ],
      "source": [
        "Image(filenames[indices[0][1]])"
      ]
    },
    {
      "cell_type": "code",
      "execution_count": null,
      "id": "307012a4-654d-4d14-a094-4d73f075d469",
      "metadata": {
        "colab": {
          "base_uri": "https://localhost:8080/",
          "height": 97
        },
        "id": "307012a4-654d-4d14-a094-4d73f075d469",
        "outputId": "f082ea01-2791-4687-cb04-2017e4560809"
      },
      "outputs": [
        {
          "data": {
            "image/jpeg": "[encoded data removed]",
            "text/plain": [
              "<IPython.core.display.Image object>"
            ]
          },
          "execution_count": 55,
          "metadata": {},
          "output_type": "execute_result"
        }
      ],
      "source": [
        "Image(filenames[indices[0][0]])"
      ]
    },
    {
      "cell_type": "code",
      "execution_count": null,
      "id": "81028132-bb01-443a-b61c-d7645114de54",
      "metadata": {
        "colab": {
          "base_uri": "https://localhost:8080/",
          "height": 97
        },
        "id": "81028132-bb01-443a-b61c-d7645114de54",
        "outputId": "0810ce4e-4e9c-4d82-aa66-4c584889f0f8"
      },
      "outputs": [
        {
          "data": {
            "image/jpeg": "[encoded data removed]",
            "text/plain": [
              "<IPython.core.display.Image object>"
            ]
          },
          "execution_count": 56,
          "metadata": {},
          "output_type": "execute_result"
        }
      ],
      "source": [
        "Image(filenames[indices[0][4]])"
      ]
    },
    {
      "cell_type": "code",
      "execution_count": null,
      "id": "151dd938-f66a-4cd2-b8c4-91f60dc25084",
      "metadata": {
        "colab": {
          "base_uri": "https://localhost:8080/",
          "height": 97
        },
        "id": "151dd938-f66a-4cd2-b8c4-91f60dc25084",
        "outputId": "b0d3816c-8037-4726-f37c-a239189fc985"
      },
      "outputs": [
        {
          "data": {
            "image/jpeg": "[encoded data removed]",
            "text/plain": [
              "<IPython.core.display.Image object>"
            ]
          },
          "execution_count": 57,
          "metadata": {},
          "output_type": "execute_result"
        }
      ],
      "source": [
        "Image(filenames[indices[0][0]])"
      ]
    },
    {
      "cell_type": "code",
      "execution_count": 32,
      "id": "be7f5d90",
      "metadata": {},
      "outputs": [
        {
          "name": "stdout",
          "output_type": "stream",
          "text": [
            "<class 'list'>\n",
            "44441\n",
            "<class 'numpy.ndarray'>\n",
            "2048\n"
          ]
        }
      ],
      "source": [
        "import pickle\n",
        "\n",
        "with open(r'C:\\Users\\sivac\\Documents\\MSC ACADAMIC PROJECT\\SEM 4\\Fashion Recommendation Project\\embeddings.pkl', 'rb') as file:\n",
        "    features = pickle.load(file)\n",
        "# Inspect the structure of the loaded features\n",
        "print(type(features))\n",
        "print(len(features))\n",
        "print(type(features[0]))\n",
        "print(len(features[1]))\n",
        "#X, y = features  # X is your feature matrix, y are the labels or ground truth\n"
      ]
    },
    {
      "cell_type": "code",
      "execution_count": 33,
      "id": "d6ebc5cf",
      "metadata": {},
      "outputs": [],
      "source": [
        "# Extract based on known positions\n",
        "X = features[0]\n",
        "y = features[1]\n",
        "\n",
        "X = np.array(X)\n",
        "y = np.array(y)\n"
      ]
    },
    {
      "cell_type": "code",
      "execution_count": 34,
      "id": "76ebec23",
      "metadata": {},
      "outputs": [
        {
          "data": {
            "text/html": [
              "<style>#sk-container-id-3 {\n",
              "  /* Definition of color scheme common for light and dark mode */\n",
              "  --sklearn-color-text: black;\n",
              "  --sklearn-color-line: gray;\n",
              "  /* Definition of color scheme for unfitted estimators */\n",
              "  --sklearn-color-unfitted-level-0: #fff5e6;\n",
              "  --sklearn-color-unfitted-level-1: #f6e4d2;\n",
              "  --sklearn-color-unfitted-level-2: #ffe0b3;\n",
              "  --sklearn-color-unfitted-level-3: chocolate;\n",
              "  /* Definition of color scheme for fitted estimators */\n",
              "  --sklearn-color-fitted-level-0: #f0f8ff;\n",
              "  --sklearn-color-fitted-level-1: #d4ebff;\n",
              "  --sklearn-color-fitted-level-2: #b3dbfd;\n",
              "  --sklearn-color-fitted-level-3: cornflowerblue;\n",
              "\n",
              "  /* Specific color for light theme */\n",
              "  --sklearn-color-text-on-default-background: var(--sg-text-color, var(--theme-code-foreground, var(--jp-content-font-color1, black)));\n",
              "  --sklearn-color-background: var(--sg-background-color, var(--theme-background, var(--jp-layout-color0, white)));\n",
              "  --sklearn-color-border-box: var(--sg-text-color, var(--theme-code-foreground, var(--jp-content-font-color1, black)));\n",
              "  --sklearn-color-icon: #696969;\n",
              "\n",
              "  @media (prefers-color-scheme: dark) {\n",
              "    /* Redefinition of color scheme for dark theme */\n",
              "    --sklearn-color-text-on-default-background: var(--sg-text-color, var(--theme-code-foreground, var(--jp-content-font-color1, white)));\n",
              "    --sklearn-color-background: var(--sg-background-color, var(--theme-background, var(--jp-layout-color0, #111)));\n",
              "    --sklearn-color-border-box: var(--sg-text-color, var(--theme-code-foreground, var(--jp-content-font-color1, white)));\n",
              "    --sklearn-color-icon: #878787;\n",
              "  }\n",
              "}\n",
              "\n",
              "#sk-container-id-3 {\n",
              "  color: var(--sklearn-color-text);\n",
              "}\n",
              "\n",
              "#sk-container-id-3 pre {\n",
              "  padding: 0;\n",
              "}\n",
              "\n",
              "#sk-container-id-3 input.sk-hidden--visually {\n",
              "  border: 0;\n",
              "  clip: rect(1px 1px 1px 1px);\n",
              "  clip: rect(1px, 1px, 1px, 1px);\n",
              "  height: 1px;\n",
              "  margin: -1px;\n",
              "  overflow: hidden;\n",
              "  padding: 0;\n",
              "  position: absolute;\n",
              "  width: 1px;\n",
              "}\n",
              "\n",
              "#sk-container-id-3 div.sk-dashed-wrapped {\n",
              "  border: 1px dashed var(--sklearn-color-line);\n",
              "  margin: 0 0.4em 0.5em 0.4em;\n",
              "  box-sizing: border-box;\n",
              "  padding-bottom: 0.4em;\n",
              "  background-color: var(--sklearn-color-background);\n",
              "}\n",
              "\n",
              "#sk-container-id-3 div.sk-container {\n",
              "  /* jupyter's `normalize.less` sets `[hidden] { display: none; }`\n",
              "     but bootstrap.min.css set `[hidden] { display: none !important; }`\n",
              "     so we also need the `!important` here to be able to override the\n",
              "     default hidden behavior on the sphinx rendered scikit-learn.org.\n",
              "     See: https://github.com/scikit-learn/scikit-learn/issues/21755 */\n",
              "  display: inline-block !important;\n",
              "  position: relative;\n",
              "}\n",
              "\n",
              "#sk-container-id-3 div.sk-text-repr-fallback {\n",
              "  display: none;\n",
              "}\n",
              "\n",
              "div.sk-parallel-item,\n",
              "div.sk-serial,\n",
              "div.sk-item {\n",
              "  /* draw centered vertical line to link estimators */\n",
              "  background-image: linear-gradient(var(--sklearn-color-text-on-default-background), var(--sklearn-color-text-on-default-background));\n",
              "  background-size: 2px 100%;\n",
              "  background-repeat: no-repeat;\n",
              "  background-position: center center;\n",
              "}\n",
              "\n",
              "/* Parallel-specific style estimator block */\n",
              "\n",
              "#sk-container-id-3 div.sk-parallel-item::after {\n",
              "  content: \"\";\n",
              "  width: 100%;\n",
              "  border-bottom: 2px solid var(--sklearn-color-text-on-default-background);\n",
              "  flex-grow: 1;\n",
              "}\n",
              "\n",
              "#sk-container-id-3 div.sk-parallel {\n",
              "  display: flex;\n",
              "  align-items: stretch;\n",
              "  justify-content: center;\n",
              "  background-color: var(--sklearn-color-background);\n",
              "  position: relative;\n",
              "}\n",
              "\n",
              "#sk-container-id-3 div.sk-parallel-item {\n",
              "  display: flex;\n",
              "  flex-direction: column;\n",
              "}\n",
              "\n",
              "#sk-container-id-3 div.sk-parallel-item:first-child::after {\n",
              "  align-self: flex-end;\n",
              "  width: 50%;\n",
              "}\n",
              "\n",
              "#sk-container-id-3 div.sk-parallel-item:last-child::after {\n",
              "  align-self: flex-start;\n",
              "  width: 50%;\n",
              "}\n",
              "\n",
              "#sk-container-id-3 div.sk-parallel-item:only-child::after {\n",
              "  width: 0;\n",
              "}\n",
              "\n",
              "/* Serial-specific style estimator block */\n",
              "\n",
              "#sk-container-id-3 div.sk-serial {\n",
              "  display: flex;\n",
              "  flex-direction: column;\n",
              "  align-items: center;\n",
              "  background-color: var(--sklearn-color-background);\n",
              "  padding-right: 1em;\n",
              "  padding-left: 1em;\n",
              "}\n",
              "\n",
              "\n",
              "/* Toggleable style: style used for estimator/Pipeline/ColumnTransformer box that is\n",
              "clickable and can be expanded/collapsed.\n",
              "- Pipeline and ColumnTransformer use this feature and define the default style\n",
              "- Estimators will overwrite some part of the style using the `sk-estimator` class\n",
              "*/\n",
              "\n",
              "/* Pipeline and ColumnTransformer style (default) */\n",
              "\n",
              "#sk-container-id-3 div.sk-toggleable {\n",
              "  /* Default theme specific background. It is overwritten whether we have a\n",
              "  specific estimator or a Pipeline/ColumnTransformer */\n",
              "  background-color: var(--sklearn-color-background);\n",
              "}\n",
              "\n",
              "/* Toggleable label */\n",
              "#sk-container-id-3 label.sk-toggleable__label {\n",
              "  cursor: pointer;\n",
              "  display: block;\n",
              "  width: 100%;\n",
              "  margin-bottom: 0;\n",
              "  padding: 0.5em;\n",
              "  box-sizing: border-box;\n",
              "  text-align: center;\n",
              "}\n",
              "\n",
              "#sk-container-id-3 label.sk-toggleable__label-arrow:before {\n",
              "  /* Arrow on the left of the label */\n",
              "  content: \"▸\";\n",
              "  float: left;\n",
              "  margin-right: 0.25em;\n",
              "  color: var(--sklearn-color-icon);\n",
              "}\n",
              "\n",
              "#sk-container-id-3 label.sk-toggleable__label-arrow:hover:before {\n",
              "  color: var(--sklearn-color-text);\n",
              "}\n",
              "\n",
              "/* Toggleable content - dropdown */\n",
              "\n",
              "#sk-container-id-3 div.sk-toggleable__content {\n",
              "  max-height: 0;\n",
              "  max-width: 0;\n",
              "  overflow: hidden;\n",
              "  text-align: left;\n",
              "  /* unfitted */\n",
              "  background-color: var(--sklearn-color-unfitted-level-0);\n",
              "}\n",
              "\n",
              "#sk-container-id-3 div.sk-toggleable__content.fitted {\n",
              "  /* fitted */\n",
              "  background-color: var(--sklearn-color-fitted-level-0);\n",
              "}\n",
              "\n",
              "#sk-container-id-3 div.sk-toggleable__content pre {\n",
              "  margin: 0.2em;\n",
              "  border-radius: 0.25em;\n",
              "  color: var(--sklearn-color-text);\n",
              "  /* unfitted */\n",
              "  background-color: var(--sklearn-color-unfitted-level-0);\n",
              "}\n",
              "\n",
              "#sk-container-id-3 div.sk-toggleable__content.fitted pre {\n",
              "  /* unfitted */\n",
              "  background-color: var(--sklearn-color-fitted-level-0);\n",
              "}\n",
              "\n",
              "#sk-container-id-3 input.sk-toggleable__control:checked~div.sk-toggleable__content {\n",
              "  /* Expand drop-down */\n",
              "  max-height: 200px;\n",
              "  max-width: 100%;\n",
              "  overflow: auto;\n",
              "}\n",
              "\n",
              "#sk-container-id-3 input.sk-toggleable__control:checked~label.sk-toggleable__label-arrow:before {\n",
              "  content: \"▾\";\n",
              "}\n",
              "\n",
              "/* Pipeline/ColumnTransformer-specific style */\n",
              "\n",
              "#sk-container-id-3 div.sk-label input.sk-toggleable__control:checked~label.sk-toggleable__label {\n",
              "  color: var(--sklearn-color-text);\n",
              "  background-color: var(--sklearn-color-unfitted-level-2);\n",
              "}\n",
              "\n",
              "#sk-container-id-3 div.sk-label.fitted input.sk-toggleable__control:checked~label.sk-toggleable__label {\n",
              "  background-color: var(--sklearn-color-fitted-level-2);\n",
              "}\n",
              "\n",
              "/* Estimator-specific style */\n",
              "\n",
              "/* Colorize estimator box */\n",
              "#sk-container-id-3 div.sk-estimator input.sk-toggleable__control:checked~label.sk-toggleable__label {\n",
              "  /* unfitted */\n",
              "  background-color: var(--sklearn-color-unfitted-level-2);\n",
              "}\n",
              "\n",
              "#sk-container-id-3 div.sk-estimator.fitted input.sk-toggleable__control:checked~label.sk-toggleable__label {\n",
              "  /* fitted */\n",
              "  background-color: var(--sklearn-color-fitted-level-2);\n",
              "}\n",
              "\n",
              "#sk-container-id-3 div.sk-label label.sk-toggleable__label,\n",
              "#sk-container-id-3 div.sk-label label {\n",
              "  /* The background is the default theme color */\n",
              "  color: var(--sklearn-color-text-on-default-background);\n",
              "}\n",
              "\n",
              "/* On hover, darken the color of the background */\n",
              "#sk-container-id-3 div.sk-label:hover label.sk-toggleable__label {\n",
              "  color: var(--sklearn-color-text);\n",
              "  background-color: var(--sklearn-color-unfitted-level-2);\n",
              "}\n",
              "\n",
              "/* Label box, darken color on hover, fitted */\n",
              "#sk-container-id-3 div.sk-label.fitted:hover label.sk-toggleable__label.fitted {\n",
              "  color: var(--sklearn-color-text);\n",
              "  background-color: var(--sklearn-color-fitted-level-2);\n",
              "}\n",
              "\n",
              "/* Estimator label */\n",
              "\n",
              "#sk-container-id-3 div.sk-label label {\n",
              "  font-family: monospace;\n",
              "  font-weight: bold;\n",
              "  display: inline-block;\n",
              "  line-height: 1.2em;\n",
              "}\n",
              "\n",
              "#sk-container-id-3 div.sk-label-container {\n",
              "  text-align: center;\n",
              "}\n",
              "\n",
              "/* Estimator-specific */\n",
              "#sk-container-id-3 div.sk-estimator {\n",
              "  font-family: monospace;\n",
              "  border: 1px dotted var(--sklearn-color-border-box);\n",
              "  border-radius: 0.25em;\n",
              "  box-sizing: border-box;\n",
              "  margin-bottom: 0.5em;\n",
              "  /* unfitted */\n",
              "  background-color: var(--sklearn-color-unfitted-level-0);\n",
              "}\n",
              "\n",
              "#sk-container-id-3 div.sk-estimator.fitted {\n",
              "  /* fitted */\n",
              "  background-color: var(--sklearn-color-fitted-level-0);\n",
              "}\n",
              "\n",
              "/* on hover */\n",
              "#sk-container-id-3 div.sk-estimator:hover {\n",
              "  /* unfitted */\n",
              "  background-color: var(--sklearn-color-unfitted-level-2);\n",
              "}\n",
              "\n",
              "#sk-container-id-3 div.sk-estimator.fitted:hover {\n",
              "  /* fitted */\n",
              "  background-color: var(--sklearn-color-fitted-level-2);\n",
              "}\n",
              "\n",
              "/* Specification for estimator info (e.g. \"i\" and \"?\") */\n",
              "\n",
              "/* Common style for \"i\" and \"?\" */\n",
              "\n",
              ".sk-estimator-doc-link,\n",
              "a:link.sk-estimator-doc-link,\n",
              "a:visited.sk-estimator-doc-link {\n",
              "  float: right;\n",
              "  font-size: smaller;\n",
              "  line-height: 1em;\n",
              "  font-family: monospace;\n",
              "  background-color: var(--sklearn-color-background);\n",
              "  border-radius: 1em;\n",
              "  height: 1em;\n",
              "  width: 1em;\n",
              "  text-decoration: none !important;\n",
              "  margin-left: 1ex;\n",
              "  /* unfitted */\n",
              "  border: var(--sklearn-color-unfitted-level-1) 1pt solid;\n",
              "  color: var(--sklearn-color-unfitted-level-1);\n",
              "}\n",
              "\n",
              ".sk-estimator-doc-link.fitted,\n",
              "a:link.sk-estimator-doc-link.fitted,\n",
              "a:visited.sk-estimator-doc-link.fitted {\n",
              "  /* fitted */\n",
              "  border: var(--sklearn-color-fitted-level-1) 1pt solid;\n",
              "  color: var(--sklearn-color-fitted-level-1);\n",
              "}\n",
              "\n",
              "/* On hover */\n",
              "div.sk-estimator:hover .sk-estimator-doc-link:hover,\n",
              ".sk-estimator-doc-link:hover,\n",
              "div.sk-label-container:hover .sk-estimator-doc-link:hover,\n",
              ".sk-estimator-doc-link:hover {\n",
              "  /* unfitted */\n",
              "  background-color: var(--sklearn-color-unfitted-level-3);\n",
              "  color: var(--sklearn-color-background);\n",
              "  text-decoration: none;\n",
              "}\n",
              "\n",
              "div.sk-estimator.fitted:hover .sk-estimator-doc-link.fitted:hover,\n",
              ".sk-estimator-doc-link.fitted:hover,\n",
              "div.sk-label-container:hover .sk-estimator-doc-link.fitted:hover,\n",
              ".sk-estimator-doc-link.fitted:hover {\n",
              "  /* fitted */\n",
              "  background-color: var(--sklearn-color-fitted-level-3);\n",
              "  color: var(--sklearn-color-background);\n",
              "  text-decoration: none;\n",
              "}\n",
              "\n",
              "/* Span, style for the box shown on hovering the info icon */\n",
              ".sk-estimator-doc-link span {\n",
              "  display: none;\n",
              "  z-index: 9999;\n",
              "  position: relative;\n",
              "  font-weight: normal;\n",
              "  right: .2ex;\n",
              "  padding: .5ex;\n",
              "  margin: .5ex;\n",
              "  width: min-content;\n",
              "  min-width: 20ex;\n",
              "  max-width: 50ex;\n",
              "  color: var(--sklearn-color-text);\n",
              "  box-shadow: 2pt 2pt 4pt #999;\n",
              "  /* unfitted */\n",
              "  background: var(--sklearn-color-unfitted-level-0);\n",
              "  border: .5pt solid var(--sklearn-color-unfitted-level-3);\n",
              "}\n",
              "\n",
              ".sk-estimator-doc-link.fitted span {\n",
              "  /* fitted */\n",
              "  background: var(--sklearn-color-fitted-level-0);\n",
              "  border: var(--sklearn-color-fitted-level-3);\n",
              "}\n",
              "\n",
              ".sk-estimator-doc-link:hover span {\n",
              "  display: block;\n",
              "}\n",
              "\n",
              "/* \"?\"-specific style due to the `<a>` HTML tag */\n",
              "\n",
              "#sk-container-id-3 a.estimator_doc_link {\n",
              "  float: right;\n",
              "  font-size: 1rem;\n",
              "  line-height: 1em;\n",
              "  font-family: monospace;\n",
              "  background-color: var(--sklearn-color-background);\n",
              "  border-radius: 1rem;\n",
              "  height: 1rem;\n",
              "  width: 1rem;\n",
              "  text-decoration: none;\n",
              "  /* unfitted */\n",
              "  color: var(--sklearn-color-unfitted-level-1);\n",
              "  border: var(--sklearn-color-unfitted-level-1) 1pt solid;\n",
              "}\n",
              "\n",
              "#sk-container-id-3 a.estimator_doc_link.fitted {\n",
              "  /* fitted */\n",
              "  border: var(--sklearn-color-fitted-level-1) 1pt solid;\n",
              "  color: var(--sklearn-color-fitted-level-1);\n",
              "}\n",
              "\n",
              "/* On hover */\n",
              "#sk-container-id-3 a.estimator_doc_link:hover {\n",
              "  /* unfitted */\n",
              "  background-color: var(--sklearn-color-unfitted-level-3);\n",
              "  color: var(--sklearn-color-background);\n",
              "  text-decoration: none;\n",
              "}\n",
              "\n",
              "#sk-container-id-3 a.estimator_doc_link.fitted:hover {\n",
              "  /* fitted */\n",
              "  background-color: var(--sklearn-color-fitted-level-3);\n",
              "}\n",
              "</style><div id=\"sk-container-id-3\" class=\"sk-top-container\"><div class=\"sk-text-repr-fallback\"><pre>NearestNeighbors(algorithm=&#x27;brute&#x27;, metric=&#x27;euclidean&#x27;, n_neighbors=6)</pre><b>In a Jupyter environment, please rerun this cell to show the HTML representation or trust the notebook. <br />On GitHub, the HTML representation is unable to render, please try loading this page with nbviewer.org.</b></div><div class=\"sk-container\" hidden><div class=\"sk-item\"><div class=\"sk-estimator fitted sk-toggleable\"><input class=\"sk-toggleable__control sk-hidden--visually\" id=\"sk-estimator-id-3\" type=\"checkbox\" checked><label for=\"sk-estimator-id-3\" class=\"sk-toggleable__label fitted sk-toggleable__label-arrow fitted\">&nbsp;&nbsp;NearestNeighbors<a class=\"sk-estimator-doc-link fitted\" rel=\"noreferrer\" target=\"_blank\" href=\"https://scikit-learn.org/1.4/modules/generated/sklearn.neighbors.NearestNeighbors.html\">?<span>Documentation for NearestNeighbors</span></a><span class=\"sk-estimator-doc-link fitted\">i<span>Fitted</span></span></label><div class=\"sk-toggleable__content fitted\"><pre>NearestNeighbors(algorithm=&#x27;brute&#x27;, metric=&#x27;euclidean&#x27;, n_neighbors=6)</pre></div> </div></div></div></div>"
            ],
            "text/plain": [
              "NearestNeighbors(algorithm='brute', metric='euclidean', n_neighbors=6)"
            ]
          },
          "execution_count": 34,
          "metadata": {},
          "output_type": "execute_result"
        }
      ],
      "source": [
        "# Ensure X is a 2D array\n",
        "if len(X.shape) == 1:\n",
        "    X = X.reshape(-1, 1)\n",
        "\n",
        "# Fit the KNN model\n",
        "knn = NearestNeighbors(n_neighbors=6, algorithm='brute', metric='euclidean')\n",
        "knn.fit(X)\n"
      ]
    },
    {
      "cell_type": "code",
      "execution_count": 35,
      "id": "e369b9e2",
      "metadata": {},
      "outputs": [
        {
          "name": "stdout",
          "output_type": "stream",
          "text": [
            "Recommended item indices: [ 9  1  0 10  3]\n",
            "Distances to recommended items: [0. 0. 0. 0. 0.]\n"
          ]
        }
      ],
      "source": [
        "from sklearn.neighbors import NearestNeighbors\n",
        "import numpy as np\n",
        "\n",
        "\n",
        "# Generate recommendations for the test set\n",
        "def get_recommendations(item_index, n_recommendations=5):\n",
        "    distances, indices = knn.kneighbors([X[item_index]], n_neighbors=n_recommendations)\n",
        "    return indices.flatten(), distances.flatten()\n",
        "\n",
        "# Example usage\n",
        "item_index = 0  # Index of the item for which recommendations are needed\n",
        "recommended_indices, recommended_distances = get_recommendations(item_index)\n",
        "print(f'Recommended item indices: {recommended_indices}')\n",
        "print(f'Distances to recommended items: {recommended_distances}')\n"
      ]
    },
    {
      "cell_type": "code",
      "execution_count": 38,
      "id": "8d2a9a00",
      "metadata": {},
      "outputs": [
        {
          "name": "stdout",
          "output_type": "stream",
          "text": [
            "Precision@6: 0.18668619791666663\n",
            "Recall@6: 0.5573272705078125\n"
          ]
        }
      ],
      "source": [
        "def precision_at_k(recommended_indices, true_label, k):\n",
        "    return np.sum(y[recommended_indices[:k]] == true_label) / k\n",
        "\n",
        "def recall_at_k(recommended_indices, true_label, k):\n",
        "    return np.sum(y[recommended_indices[:k]] == true_label) / np.sum(y == true_label)\n",
        "\n",
        "k = 6\n",
        "precisions = []\n",
        "recalls = []\n",
        "\n",
        "for i in range(len(X)):\n",
        "    true_label = y[i]\n",
        "    recommended_indices, _ = get_recommendations(i, n_recommendations=k)\n",
        "    precisions.append(precision_at_k(recommended_indices, true_label, k))\n",
        "    recalls.append(recall_at_k(recommended_indices, true_label, k))\n",
        "\n",
        "average_precision = np.mean(precisions)\n",
        "average_recall = np.mean(recalls)\n",
        "\n",
        "print(f'Precision@{k}: {average_precision}')\n",
        "print(f'Recall@{k}: {average_recall}')\n"
      ]
    },
    {
      "cell_type": "code",
      "execution_count": null,
      "id": "b7070a0f",
      "metadata": {},
      "outputs": [],
      "source": []
    }
  ],
  "metadata": {
    "accelerator": "GPU",
    "colab": {
      "gpuType": "T4",
      "provenance": []
    },
    "kernelspec": {
      "display_name": "Python 3",
      "name": "python3"
    },
    "language_info": {
      "codemirror_mode": {
        "name": "ipython",
        "version": 3
      },
      "file_extension": ".py",
      "mimetype": "text/x-python",
      "name": "python",
      "nbconvert_exporter": "python",
      "pygments_lexer": "ipython3",
      "version": "3.10.10"
    }
  },
  "nbformat": 4,
  "nbformat_minor": 5
}
